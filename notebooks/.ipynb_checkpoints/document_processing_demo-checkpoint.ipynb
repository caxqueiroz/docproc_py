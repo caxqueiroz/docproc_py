{
 "cells": [
  {
   "cell_type": "markdown",
   "metadata": {},
   "source": [
    "# Document Processing Demo\n",
    "\n",
    "This notebook demonstrates how to use the document processing functionality to:\n",
    "1. Process a single PDF file\n",
    "2. Process a directory of files\n",
    "3. Save the extracted content as JSON files"
   ]
  },
  {
   "cell_type": "code",
   "execution_count": null,
   "metadata": {},
   "outputs": [],
   "source": [
    "import os\n",
    "import json\n",
    "from pathlib import Path\n",
    "from sqlalchemy import create_engine\n",
    "from sqlalchemy.orm import sessionmaker\n",
    "\n",
    "from docai.data.models.document import Base\n",
    "from docai.data.repositories.document_repository import DocumentRepository\n",
    "from docai.services.document_processor.document_processor import DocumentProcessor"
   ]
  },
  {
   "cell_type": "markdown",
   "metadata": {},
   "source": [
    "## Setup\n",
    "\n",
    "First, let's set up our database connection and create necessary directories"
   ]
  },
  {
   "cell_type": "code",
   "execution_count": null,
   "metadata": {},
   "outputs": [],
   "source": [
    "# Create database engine\n",
    "engine = create_engine(\"sqlite:///./demo.db\")\n",
    "Base.metadata.create_all(engine)\n",
    "Session = sessionmaker(bind=engine)\n",
    "db = Session()\n",
    "\n",
    "# Create repository and processor\n",
    "document_repository = DocumentRepository(db)\n",
    "document_processor = DocumentProcessor(document_repository)\n",
    "\n",
    "# Create output directory\n",
    "output_dir = Path(\"./output\")\n",
    "output_dir.mkdir(exist_ok=True)"
   ]
  },
  {
   "cell_type": "markdown",
   "metadata": {},
   "source": [
    "## Process Single PDF File\n",
    "\n",
    "Let's process a single PDF file and save its content as JSON"
   ]
  },
  {
   "cell_type": "code",
   "execution_count": null,
   "metadata": {},
   "outputs": [],
   "source": [
    "def save_as_json(doc_id, output_dir):\n",
    "    \"\"\"Save document content as JSON\"\"\"\n",
    "    doc = document_repository.get_by_id(doc_id)\n",
    "    if doc:\n",
    "        output_file = output_dir / f\"{doc.id}.json\"\n",
    "        doc_data = {\n",
    "            \"id\": doc.id,\n",
    "            \"filename\": doc.filename,\n",
    "            \"content\": doc.content,\n",
    "            \"storage_path\": str(doc.storage_path),\n",
    "            \"created_at\": doc.created_at.isoformat()\n",
    "        }\n",
    "        output_file.write_text(json.dumps(doc_data, indent=2))\n",
    "        return output_file\n",
    "    return None\n",
    "\n",
    "# Process a single PDF file\n",
    "pdf_path = Path(\"../tests/fixtures/sample.pdf\")\n",
    "if pdf_path.exists():\n",
    "    doc_id = document_processor.process_file(pdf_path)\n",
    "    if doc_id:\n",
    "        output_file = save_as_json(doc_id, output_dir)\n",
    "        print(f\"Processed {pdf_path.name} -> {output_file}\")\n",
    "else:\n",
    "    print(f\"File not found: {pdf_path}\")"
   ]
  },
  {
   "cell_type": "markdown",
   "metadata": {},
   "source": [
    "## Process Directory\n",
    "\n",
    "Now let's process all files in a directory"
   ]
  },
  {
   "cell_type": "code",
   "execution_count": null,
   "metadata": {},
   "outputs": [],
   "source": [
    "# Process all files in a directory\n",
    "input_dir = Path(\"../tests/fixtures\")\n",
    "if input_dir.exists() and input_dir.is_dir():\n",
    "    doc_ids = document_processor.process_directory(input_dir)\n",
    "    for doc_id in doc_ids:\n",
    "        output_file = save_as_json(doc_id, output_dir)\n",
    "        if output_file:\n",
    "            print(f\"Processed document {doc_id} -> {output_file}\")\n",
    "else:\n",
    "    print(f\"Directory not found: {input_dir}\")"
   ]
  },
  {
   "cell_type": "markdown",
   "metadata": {},
   "source": [
    "## View Processed Results\n",
    "\n",
    "Let's look at the contents of one of our processed files"
   ]
  },
  {
   "cell_type": "code",
   "execution_count": null,
   "metadata": {},
   "outputs": [],
   "source": [
    "# List all processed files\n",
    "print(\"Processed files:\")\n",
    "for json_file in output_dir.glob(\"*.json\"):\n",
    "    print(f\"\\n{json_file.name}:\")\n",
    "    data = json.loads(json_file.read_text())\n",
    "    print(f\"- ID: {data['id']}\")\n",
    "    print(f\"- Filename: {data['filename']}\")\n",
    "    print(f\"- Content length: {len(data['content'])} characters\")\n",
    "    print(f\"- Created at: {data['created_at']}\")"
   ]
  },
  {
   "cell_type": "markdown",
   "metadata": {},
   "source": [
    "## Cleanup\n",
    "\n",
    "Finally, let's clean up our demo database"
   ]
  },
  {
   "cell_type": "code",
   "execution_count": null,
   "metadata": {},
   "outputs": [],
   "source": [
    "# Close database connection\n",
    "db.close()\n",
    "\n",
    "# Remove demo database\n",
    "Path(\"./demo.db\").unlink(missing_ok=True)\n",
    "\n",
    "print(\"Cleanup complete!\")"
   ]
  }
 ],
 "metadata": {
  "kernelspec": {
   "display_name": "Python 3",
   "language": "python",
   "name": "python3"
  },
  "language_info": {
   "codemirror_mode": {
    "name": "ipython",
    "version": 3
   },
   "file_extension": ".py",
   "mimetype": "text/x-python",
   "name": "python",
   "nbconvert_exporter": "python",
   "pygments_lexer": "ipython3",
   "version": "3.11.5"
  }
 },
 "nbformat": 4,
 "nbformat_minor": 4
}
